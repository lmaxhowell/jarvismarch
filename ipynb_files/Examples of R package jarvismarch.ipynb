{
 "cells": [
  {
   "cell_type": "markdown",
   "id": "60e614c8",
   "metadata": {},
   "source": [
    "Some examples using the R package jarvismarch. Can be found at https://github.com/lmaxhowell/jarvismarch\n",
    "\n",
    "Installing requires the devtools package, which is commeneted out, assuming it is already installed. Please install it if it is not installed already. The same goes for installing ggplot2."
   ]
  },
  {
   "cell_type": "code",
   "execution_count": 1,
   "id": "c3786bca",
   "metadata": {},
   "outputs": [
    {
     "name": "stderr",
     "output_type": "stream",
     "text": [
      "Installing package into ‘/home/howellmf/STOR-601-env/R-packages’\n",
      "(as ‘lib’ is unspecified)\n",
      "\n",
      "also installing the dependencies ‘Rcpp’, ‘askpass’, ‘credentials’, ‘openssl’, ‘sys’, ‘zip’, ‘gitcreds’, ‘httr2’, ‘ini’, ‘httpuv’, ‘mime’, ‘xtable’, ‘fontawesome’, ‘sourcetools’, ‘later’, ‘promises’, ‘sass’, ‘jquerylib’, ‘systemfonts’, ‘textshaping’, ‘tinytex’, ‘xfun’, ‘pkgconfig’, ‘highr’, ‘diffobj’, ‘rematch2’, ‘clipr’, ‘curl’, ‘gert’, ‘gh’, ‘purrr’, ‘rappdirs’, ‘rprojroot’, ‘rstudioapi’, ‘whisker’, ‘yaml’, ‘R6’, ‘cachem’, ‘shiny’, ‘callr’, ‘prettyunits’, ‘processx’, ‘bslib’, ‘downlit’, ‘httr’, ‘magrittr’, ‘ragg’, ‘rmarkdown’, ‘tibble’, ‘xml2’, ‘htmlwidgets’, ‘stringr’, ‘xopen’, ‘brew’, ‘commonmark’, ‘knitr’, ‘stringi’, ‘cpp11’, ‘brio’, ‘praise’, ‘ps’, ‘waldo’, ‘usethis’, ‘desc’, ‘fs’, ‘memoise’, ‘miniUI’, ‘pkgbuild’, ‘pkgdown’, ‘pkgload’, ‘profvis’, ‘rcmdcheck’, ‘remotes’, ‘roxygen2’, ‘rversions’, ‘sessioninfo’, ‘testthat’, ‘urlchecker’, ‘withr’\n",
      "\n",
      "\n"
     ]
    }
   ],
   "source": [
    "# install.packages(\"devtools\")"
   ]
  },
  {
   "cell_type": "code",
   "execution_count": 1,
   "id": "68e5f20f",
   "metadata": {},
   "outputs": [
    {
     "name": "stderr",
     "output_type": "stream",
     "text": [
      "Loading required package: usethis\n",
      "\n"
     ]
    }
   ],
   "source": [
    "library(devtools)"
   ]
  },
  {
   "cell_type": "code",
   "execution_count": 2,
   "id": "d181ccb3",
   "metadata": {},
   "outputs": [
    {
     "name": "stderr",
     "output_type": "stream",
     "text": [
      "Downloading GitHub repo lmaxhowell/jarvismarch@HEAD\n",
      "\n"
     ]
    },
    {
     "name": "stdout",
     "output_type": "stream",
     "text": [
      "\n",
      "\u001b[36m──\u001b[39m \u001b[36mR CMD build\u001b[39m \u001b[36m────────────────────────────────────────────────────────────────────────────────────────────────────────────────────────────────────\u001b[39m\n",
      "\u001b[32m✔\u001b[39m  \u001b[90mchecking for file ‘/tmp/RtmponCiCb/remotesafdc95530e676/lmaxhowell-jarvismarch-96f2d63/DESCRIPTION’\u001b[39m\u001b[36m\u001b[39m\n",
      "\u001b[90m─\u001b[39m\u001b[90m  \u001b[39m\u001b[90mpreparing ‘jarvismarch’:\u001b[39m\u001b[36m\u001b[39m\n",
      "\u001b[32m✔\u001b[39m  \u001b[90mchecking DESCRIPTION meta-information\u001b[39m\u001b[36m\u001b[39m\n",
      "\u001b[90m─\u001b[39m\u001b[90m  \u001b[39m\u001b[90mcleaning src\u001b[39m\u001b[36m\u001b[39m\n",
      "\u001b[90m─\u001b[39m\u001b[90m  \u001b[39m\u001b[90mchecking for LF line-endings in source and make files and shell scripts\u001b[39m\u001b[36m\u001b[39m\n",
      "\u001b[90m─\u001b[39m\u001b[90m  \u001b[39m\u001b[90mchecking for empty or unneeded directories\u001b[39m\u001b[36m\u001b[39m\n",
      "\u001b[90m─\u001b[39m\u001b[90m  \u001b[39m\u001b[90mbuilding ‘jarvismarch_1.0.tar.gz’\u001b[39m\u001b[36m\u001b[39m\n",
      "   \n",
      "\r"
     ]
    },
    {
     "name": "stderr",
     "output_type": "stream",
     "text": [
      "Installing package into ‘/home/howellmf/STOR-601-env/R-packages’\n",
      "(as ‘lib’ is unspecified)\n",
      "\n"
     ]
    }
   ],
   "source": [
    "install_github(\"lmaxhowell/jarvismarch\")"
   ]
  },
  {
   "cell_type": "code",
   "execution_count": 3,
   "id": "cac0ccd2",
   "metadata": {},
   "outputs": [],
   "source": [
    "library(jarvismarch)"
   ]
  },
  {
   "cell_type": "code",
   "execution_count": 5,
   "id": "d35d2c07",
   "metadata": {},
   "outputs": [
    {
     "name": "stderr",
     "output_type": "stream",
     "text": [
      "Installing package into ‘/home/howellmf/STOR-601-env/R-packages’\n",
      "(as ‘lib’ is unspecified)\n",
      "\n",
      "also installing the dependencies ‘colorspace’, ‘farver’, ‘labeling’, ‘munsell’, ‘RColorBrewer’, ‘viridisLite’, ‘gtable’, ‘isoband’, ‘scales’\n",
      "\n",
      "\n"
     ]
    }
   ],
   "source": [
    "# install.packages(\"ggplot2\")"
   ]
  },
  {
   "cell_type": "markdown",
   "id": "a4f5b900",
   "metadata": {},
   "source": [
    "Techically calling the library for ggplot2 isn't needed, as it is called by the relevant function. I have only included it to demonstrate that ggplot2 is being used, not R's base plotting."
   ]
  },
  {
   "cell_type": "code",
   "execution_count": 4,
   "id": "f523e7c3",
   "metadata": {},
   "outputs": [],
   "source": [
    "library(ggplot2)"
   ]
  },
  {
   "cell_type": "markdown",
   "id": "fd98d95c",
   "metadata": {},
   "source": [
    "Randomly generate some points, reproducable due to the set.seed() function. The output is a dataframe that shows the line segment between $(x_1,y_1)$ and $(x_2,y_2)$ for each line segment in the hull."
   ]
  },
  {
   "cell_type": "code",
   "execution_count": 5,
   "id": "2bcacc6d",
   "metadata": {},
   "outputs": [
    {
     "data": {
      "text/html": [
       "<table class=\"dataframe\">\n",
       "<caption>A data.frame: 9 × 4</caption>\n",
       "<thead>\n",
       "\t<tr><th></th><th scope=col>x1</th><th scope=col>y1</th><th scope=col>x2</th><th scope=col>y2</th></tr>\n",
       "\t<tr><th></th><th scope=col>&lt;dbl&gt;</th><th scope=col>&lt;dbl&gt;</th><th scope=col>&lt;dbl&gt;</th><th scope=col>&lt;dbl&gt;</th></tr>\n",
       "</thead>\n",
       "<tbody>\n",
       "\t<tr><th scope=row>1</th><td>-3.0015525</td><td> 0.07835094</td><td>-2.4594542</td><td>-2.487760</td></tr>\n",
       "\t<tr><th scope=row>2</th><td>-2.4594542</td><td>-2.48776047</td><td>-0.1954551</td><td>-2.755280</td></tr>\n",
       "\t<tr><th scope=row>3</th><td>-0.1954551</td><td>-2.75527968</td><td> 0.3648441</td><td>-2.776838</td></tr>\n",
       "\t<tr><th scope=row>4</th><td> 0.3648441</td><td>-2.77683831</td><td> 2.4669760</td><td>-1.474127</td></tr>\n",
       "\t<tr><th scope=row>5</th><td> 2.4669760</td><td>-1.47412673</td><td> 2.7093968</td><td> 0.159622</td></tr>\n",
       "\t<tr><th scope=row>6</th><td> 2.7093968</td><td> 0.15962195</td><td> 2.4157360</td><td> 3.390681</td></tr>\n",
       "\t<tr><th scope=row>7</th><td> 2.4157360</td><td> 3.39068148</td><td> 0.8294667</td><td> 3.319490</td></tr>\n",
       "\t<tr><th scope=row>8</th><td> 0.8294667</td><td> 3.31949016</td><td>-1.9688820</td><td> 2.593454</td></tr>\n",
       "\t<tr><th scope=row>9</th><td>-1.9688820</td><td> 2.59345362</td><td>-2.7173647</td><td> 1.877221</td></tr>\n",
       "</tbody>\n",
       "</table>\n"
      ],
      "text/latex": [
       "A data.frame: 9 × 4\n",
       "\\begin{tabular}{r|llll}\n",
       "  & x1 & y1 & x2 & y2\\\\\n",
       "  & <dbl> & <dbl> & <dbl> & <dbl>\\\\\n",
       "\\hline\n",
       "\t1 & -3.0015525 &  0.07835094 & -2.4594542 & -2.487760\\\\\n",
       "\t2 & -2.4594542 & -2.48776047 & -0.1954551 & -2.755280\\\\\n",
       "\t3 & -0.1954551 & -2.75527968 &  0.3648441 & -2.776838\\\\\n",
       "\t4 &  0.3648441 & -2.77683831 &  2.4669760 & -1.474127\\\\\n",
       "\t5 &  2.4669760 & -1.47412673 &  2.7093968 &  0.159622\\\\\n",
       "\t6 &  2.7093968 &  0.15962195 &  2.4157360 &  3.390681\\\\\n",
       "\t7 &  2.4157360 &  3.39068148 &  0.8294667 &  3.319490\\\\\n",
       "\t8 &  0.8294667 &  3.31949016 & -1.9688820 &  2.593454\\\\\n",
       "\t9 & -1.9688820 &  2.59345362 & -2.7173647 &  1.877221\\\\\n",
       "\\end{tabular}\n"
      ],
      "text/markdown": [
       "\n",
       "A data.frame: 9 × 4\n",
       "\n",
       "| <!--/--> | x1 &lt;dbl&gt; | y1 &lt;dbl&gt; | x2 &lt;dbl&gt; | y2 &lt;dbl&gt; |\n",
       "|---|---|---|---|---|\n",
       "| 1 | -3.0015525 |  0.07835094 | -2.4594542 | -2.487760 |\n",
       "| 2 | -2.4594542 | -2.48776047 | -0.1954551 | -2.755280 |\n",
       "| 3 | -0.1954551 | -2.75527968 |  0.3648441 | -2.776838 |\n",
       "| 4 |  0.3648441 | -2.77683831 |  2.4669760 | -1.474127 |\n",
       "| 5 |  2.4669760 | -1.47412673 |  2.7093968 |  0.159622 |\n",
       "| 6 |  2.7093968 |  0.15962195 |  2.4157360 |  3.390681 |\n",
       "| 7 |  2.4157360 |  3.39068148 |  0.8294667 |  3.319490 |\n",
       "| 8 |  0.8294667 |  3.31949016 | -1.9688820 |  2.593454 |\n",
       "| 9 | -1.9688820 |  2.59345362 | -2.7173647 |  1.877221 |\n",
       "\n"
      ],
      "text/plain": [
       "  x1         y1          x2         y2       \n",
       "1 -3.0015525  0.07835094 -2.4594542 -2.487760\n",
       "2 -2.4594542 -2.48776047 -0.1954551 -2.755280\n",
       "3 -0.1954551 -2.75527968  0.3648441 -2.776838\n",
       "4  0.3648441 -2.77683831  2.4669760 -1.474127\n",
       "5  2.4669760 -1.47412673  2.7093968  0.159622\n",
       "6  2.7093968  0.15962195  2.4157360  3.390681\n",
       "7  2.4157360  3.39068148  0.8294667  3.319490\n",
       "8  0.8294667  3.31949016 -1.9688820  2.593454\n",
       "9 -1.9688820  2.59345362 -2.7173647  1.877221"
      ]
     },
     "metadata": {},
     "output_type": "display_data"
    }
   ],
   "source": [
    "set.seed(1313)\n",
    "Points <- data.frame(x=rnorm(1000),y=rnorm(1000))\n",
    "jarvis_march(Points)"
   ]
  },
  {
   "cell_type": "markdown",
   "id": "70fe8f41",
   "metadata": {},
   "source": [
    "For a more comprehensive look at the package functions, see the readme file and the package documentation."
   ]
  }
 ],
 "metadata": {
  "kernelspec": {
   "display_name": "R",
   "language": "R",
   "name": "ir"
  },
  "language_info": {
   "codemirror_mode": "r",
   "file_extension": ".r",
   "mimetype": "text/x-r-source",
   "name": "R",
   "pygments_lexer": "r",
   "version": "4.1.2"
  }
 },
 "nbformat": 4,
 "nbformat_minor": 5
}
