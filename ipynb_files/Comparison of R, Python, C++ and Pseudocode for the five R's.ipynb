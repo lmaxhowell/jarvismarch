{
 "cells": [
  {
   "cell_type": "markdown",
   "id": "2f2f1ce1",
   "metadata": {},
   "source": [
    "# Ranking 1 (best) to 4 (worst) between Pseudocode, R, Python and C++ for the 5 R's\n",
    "\n",
    "Five R's found https://www.frontiersin.org/articles/10.3389/fninf.2017.00069/full and\n",
    "https://prezi.com/view/UFn6tMCwgPK4YHf3VrlH/"
   ]
  },
  {
   "cell_type": "markdown",
   "id": "70bbb993",
   "metadata": {},
   "source": [
    "&nbsp; |Replicable |Reproducable |Repeatable |Rerunable |Reusable\n",
    ":-----|-----|-----|-----|-----|----- \n",
    "Pseudocode|1|4|4|2|3\n",
    "Python|2|2|3|3|1\n",
    "C++|4|3|1|1|4\n",
    "R Package|3|1|2|4|2"
   ]
  },
  {
   "cell_type": "markdown",
   "id": "70840f77",
   "metadata": {},
   "source": [
    "# Replicable\n",
    "\"New code that matches a conceptual description.\"\n",
    "\n",
    "Pseudocode is the best for this as it is the clearest way of translating the knowlede to the widest base of people able to replicate the algorithm, as you're not limited to one language.\n",
    "Python is used by a lot of people and easy to write your own algorithm with so it comes second. Then R, as it is again easy to write in (though harder than Python and less people use it) and then C++ as it is hardest to use."
   ]
  },
  {
   "cell_type": "markdown",
   "id": "2901ece3",
   "metadata": {},
   "source": [
    "# Reproducable\n",
    "\"Other researchers using the original code and data to obtain the same results\".\n",
    "\n",
    "An R package is best for this as it is easy to combine the original code and data in an accessible, easy to use way. Plus it is easy to set seeds to for reproducing random outputs. Python is next because it is again easy to use with librarys, though more time consuming to set seeds and import data. C++ comes next as it is hardest to use. Pseudocode is last because it is not the original code and any discrepancies in the wording could lead to the algorithm not functioning exactly the same and not being reproducable."
   ]
  },
  {
   "cell_type": "markdown",
   "id": "51e341a8",
   "metadata": {},
   "source": [
    "# Repeatable\n",
    "\"The same output over successive runs of the program.\"\n",
    "\n",
    "C++ is the best for this as it fastest, so it's easy to get the same outputs and verify them quickly, plus it has an ISO standard meaning that the any changes in the language won't effect the outputs of the code. R is next as it has CRAN, an organisation that works on keeping a standard within what is an acceptable R package so the code remains consistant. Then Python as it's not as good as the others, and Pseudocode last because it isn't code that can produce an output without being implemented."
   ]
  },
  {
   "cell_type": "markdown",
   "id": "323713ff",
   "metadata": {},
   "source": [
    "# Rerunable\n",
    "\"Can be run again when needed.\"\n",
    "\n",
    "C++ is the best for this as it has an ISO standard.  (Good) Pseudocode is the next best as new code can be written from it to be run again as new coding enviroments and languages emerge. Then Python and R package as they are less regulated."
   ]
  },
  {
   "cell_type": "markdown",
   "id": "c20d7a72",
   "metadata": {},
   "source": [
    "# Reuseable\n",
    "\"Can be easily used and modified by others.\"\n",
    "\n",
    "Python is the best for this as it's easy to write in and lots of people use it. R package is next for similar reasons, though it's slightly clunkier and more niche. The Pseudocode as it's designed to convery the algorithm to then be used and modified. Then C++ as it's that much harder to use."
   ]
  }
 ],
 "metadata": {
  "kernelspec": {
   "display_name": "C++17",
   "language": "C++",
   "name": "cling-cpp17"
  },
  "language_info": {
   "codemirror_mode": "c++",
   "file_extension": ".c++",
   "mimetype": "text/x-c++src",
   "name": "c++"
  }
 },
 "nbformat": 4,
 "nbformat_minor": 5
}
