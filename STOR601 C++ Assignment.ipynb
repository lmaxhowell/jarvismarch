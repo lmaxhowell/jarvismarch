{
 "cells": [
  {
   "cell_type": "markdown",
   "id": "3ed8afd4",
   "metadata": {},
   "source": [
    "# Part 1)\n",
    "This is the code in the question:"
   ]
  },
  {
   "cell_type": "code",
   "execution_count": 1,
   "id": "fd3a3ca8",
   "metadata": {},
   "outputs": [
    {
     "data": {
      "text/plain": []
     },
     "execution_count": 1,
     "metadata": {},
     "output_type": "execute_result"
    }
   ],
   "source": [
    "struct Point\n",
    "{\n",
    "    double x;\n",
    "    double y;\n",
    "    Point(double _x = 0.0, double _y = 0.0)\n",
    "    {\n",
    "        x = _x;\n",
    "        y = _y;   \n",
    "    }\n",
    "    Point operator-(Point p)\n",
    "    {\n",
    "       return Point(x - p.x,y - p.y);\n",
    "    }\n",
    "};\n",
    "\n",
    "struct Line_Segment\n",
    "{\n",
    "    Point a;\n",
    "    Point b;\n",
    "    Line_Segment(Point _a, Point _b)\n",
    "    {\n",
    "        a = _a;\n",
    "        b = _b;\n",
    "    }\n",
    "    double anon(Line_Segment other)\n",
    "    {\n",
    "        Point c = b - a;\n",
    "        Point d = other.b - other.a;\n",
    "        return c.x * d.y - d.x*c.y;\n",
    "    }\n",
    "};"
   ]
  },
  {
   "cell_type": "markdown",
   "id": "fe4ef7e3",
   "metadata": {},
   "source": [
    "Now to test out $\\verb|anon|$ with an example."
   ]
  },
  {
   "attachments": {
    "Screenshot%20from%202023-02-28%2018-06-01.png": {
     "image/png": "[encoded data removed]"
    }
   },
   "cell_type": "markdown",
   "id": "e7de47b1",
   "metadata": {},
   "source": [
    "![Screenshot%20from%202023-02-28%2018-06-01.png](attachment:Screenshot%20from%202023-02-28%2018-06-01.png)"
   ]
  },
  {
   "cell_type": "code",
   "execution_count": 2,
   "id": "944f68f7",
   "metadata": {},
   "outputs": [
    {
     "data": {
      "text/plain": []
     },
     "execution_count": 2,
     "metadata": {},
     "output_type": "execute_result"
    }
   ],
   "source": [
    "#include <iostream>"
   ]
  },
  {
   "cell_type": "code",
   "execution_count": 3,
   "id": "28a1eadd",
   "metadata": {},
   "outputs": [
    {
     "name": "stdout",
     "output_type": "stream",
     "text": [
      "12\n"
     ]
    },
    {
     "data": {
      "text/plain": [
       "(std::basic_ostream<char, std::char_traits<char> >::__ostream_type &) @0x7f8c767fd540\n"
      ]
     },
     "execution_count": 3,
     "metadata": {},
     "output_type": "execute_result"
    }
   ],
   "source": [
    "Point A(1,2);\n",
    "Point B(3,4);\n",
    "Point C(2,0);\n",
    "Point D(0,4);\n",
    "Line_Segment L1(A,B);\n",
    "Line_Segment L2(C,D);\n",
    "std::cout << L1.anon(L2) << std::endl;"
   ]
  },
  {
   "cell_type": "markdown",
   "id": "e1310fa0",
   "metadata": {},
   "source": [
    "The function $\\verb|anon|$ takes two line segments (aka four points) and calculates the cross product. It does this by calculating the vector form of each line (by subtracting one end from the other) and then calculating the cross product.\n",
    "A cross product in 2D space returns a scalar value. This is beacuse it is like the usual 3D cross product but assuming the $z=0$ for both vectors (i.e. you are in the plane at $z=0$). Then if you were to do the cross poduct of the 3D vectors for example: $$ \\begin{pmatrix} x_1 \\\\ y_1 \\\\ z_1 \\end{pmatrix} \\times \\begin{pmatrix} x_2 \\\\ y_2 \\\\ z_2 \\end{pmatrix} = \\begin{pmatrix} x_1 \\\\ y_1 \\\\ 0 \\end{pmatrix} \\times \\begin{pmatrix} x_2 \\\\ y_2 \\\\ 0 \\end{pmatrix} = \\begin{pmatrix} 0 \\\\ 0 \\\\ x_1y_2-x_2y_1\\end{pmatrix}$$\n",
    "The cross product of the 2D vector outputting a scalar value is just skipping the stuff we know are going to be zeros. Therefore this scalar value is the size of the vector perpendicular to the plane coming out of the origin $(0,0)$.\n",
    "\n",
    "It can also be used to caluclate the angle between the two lines using the sine rule: $$ a \\times b = |a| \\cdot |b| \\sin(\\theta).$$ As it is a the sine rule it always finds the 'smaller' angle in terms of two intersecting lines. So for the example above..."
   ]
  },
  {
   "cell_type": "code",
   "execution_count": 4,
   "id": "4419bb98",
   "metadata": {},
   "outputs": [
    {
     "data": {
      "text/plain": []
     },
     "execution_count": 4,
     "metadata": {},
     "output_type": "execute_result"
    }
   ],
   "source": [
    "#include <math.h>"
   ]
  },
  {
   "cell_type": "code",
   "execution_count": 5,
   "id": "cf815985",
   "metadata": {},
   "outputs": [
    {
     "name": "stdout",
     "output_type": "stream",
     "text": [
      "1.24905\n"
     ]
    },
    {
     "data": {
      "text/plain": [
       "(std::basic_ostream<char, std::char_traits<char> >::__ostream_type &) @0x7f8c767fd540\n"
      ]
     },
     "execution_count": 5,
     "metadata": {},
     "output_type": "execute_result"
    }
   ],
   "source": [
    "Point P1 {B-A};\n",
    "Point P2 {D-C};\n",
    "double l1 {std::sqrt(std::pow(P1.x,2)+std::pow(P1.y,2))};\n",
    "double l2 {std::sqrt(std::pow(P2.x,2)+std::pow(P2.y,2))};\n",
    "std::cout << std::asin(12/(l1*l2)) << std::endl;"
   ]
  },
  {
   "cell_type": "markdown",
   "id": "cc82fae4",
   "metadata": {},
   "source": [
    "This the angle between the two line is 1.24 radians. Of course when the subtraction of the two points is done, it gives a dirctional vector. This turns it into a a vector of an (infinite) line rather than a line segment. Thus the angle calculated is still the valid angle between the two lines, even if the line segments don't cross. The only invalid case is the situation in which two lines are parallel."
   ]
  },
  {
   "cell_type": "markdown",
   "id": "d9471628",
   "metadata": {},
   "source": [
    "# Part 2)\n",
    "An algorithm/pseudo code to determine if two line segments intersect.\n",
    "The basic idea is this: you have two line segments (and therefore four points). Call them $A,B,C$ and $D$ with the lines being $AB$ and $CD$. Then the lines intersect if and only if the points $A$ and $B$ are seperated by the line segment $CD$ $\\textit{and}$ the point $C$ and $D$ are seperated by the line segment $AB$. Therefore, if the points $A$ and $B$ are seperated by the line $CD$, then the orientation of the points $ACD$ will be opposite to the orientation of the points $BCD$. Similarly with the other line, if the points $C$ and $D$ are seperated by the line $AB$, then the orientation of the points $CAB$ will be opposite to the orientation of the points $DAB$. I would use a function denoting clockwise as 1, anticlockwise as -1 and linear as 0."
   ]
  },
  {
   "cell_type": "markdown",
   "id": "c8025675",
   "metadata": {},
   "source": [
    "$A,B,C,D$ are points in the plane with $AB$ and $CD$ denoting the lines connecting the relevant points. The aim of this algorithm is to determine if the two lines $AB$ and $CD$ intersect.\n",
    "\n",
    "1) Calculate the gradient of $AB$ and the gradient of $CD$.\n",
    "2) IF the gradient of $AB$ is equal to the gradient of $CD$ THEN \n",
    "      1) The lines are parallel. Stop the alorithm here and return that the lines are parallel.\n",
    "   ELSE\n",
    "      2) Determine the orientation of the points $ACD$ and $BCD$.\n",
    "      3) Determine the orientation of the points $CAB$ and $DAB$.\n",
    "      4) IF the orientation of $ACD$ and $BCD$ are not equal AND the orientation of $CAB$ and $DAB$ are not equal\n",
    "       THEN\n",
    "          1) The lines intersect. Return TRUE.\n",
    "      ELSE\n",
    "          1) The lines do not intersect. Return FALSE."
   ]
  },
  {
   "cell_type": "markdown",
   "id": "1048f975",
   "metadata": {},
   "source": [
    "# Part 3)\n",
    "Reset the kernel before running any code in this section!"
   ]
  },
  {
   "cell_type": "code",
   "execution_count": 1,
   "id": "35fe069e",
   "metadata": {},
   "outputs": [
    {
     "data": {
      "text/plain": []
     },
     "execution_count": 1,
     "metadata": {},
     "output_type": "execute_result"
    }
   ],
   "source": [
    "// required headers for this section\n",
    "#include <iostream>\n",
    "#include <cmath>\n",
    "#include <list>\n",
    "#include <vector>\n",
    "#include <algorithm>"
   ]
  },
  {
   "cell_type": "code",
   "execution_count": 2,
   "id": "d925b41f",
   "metadata": {},
   "outputs": [
    {
     "data": {
      "text/plain": []
     },
     "execution_count": 2,
     "metadata": {},
     "output_type": "execute_result"
    }
   ],
   "source": [
    "// the structure Point to be used throughout this section\n",
    "struct Point\n",
    "{\n",
    "    // define what a point is\n",
    "    double x;\n",
    "    double y;\n",
    "    Point(double _x = 0.0, double _y = 0.0)\n",
    "    {\n",
    "        x = _x;\n",
    "        y = _y;   \n",
    "    }\n",
    "    //adding these operators allows for maths to work and also 'sorting' a list/vector with <\n",
    "    Point operator+(Point p)\n",
    "    {\n",
    "       return Point(x + p.x,y + p.y);\n",
    "    }\n",
    "    \n",
    "    Point operator-(Point p)\n",
    "    {\n",
    "        return Point(x - p.x, y - p.y);\n",
    "    }\n",
    "    \n",
    "    bool operator<(Point p)\n",
    "    {\n",
    "        if (x<p.x)\n",
    "        {\n",
    "            return true;\n",
    "        }\n",
    "        else if ((x==p.x)&&(y<p.y))\n",
    "        {\n",
    "            return true;\n",
    "        }\n",
    "        else\n",
    "        {\n",
    "            return false;\n",
    "        }\n",
    "    }\n",
    "    \n",
    "    bool operator==(Point p)\n",
    "    {\n",
    "        if ((x==p.x)&&(y==p.y))\n",
    "        {\n",
    "            return true;\n",
    "        }\n",
    "        else\n",
    "        {\n",
    "            return false;\n",
    "        }\n",
    "    }\n",
    "\n",
    "    bool operator!=(Point p)\n",
    "    {\n",
    "        if ((x!=p.x)||(y!=p.y))\n",
    "        {\n",
    "            return true;\n",
    "        }\n",
    "        else\n",
    "        {\n",
    "            return false;\n",
    "        }\n",
    "    }\n",
    "    // can calculate the distance between two points, requires cmath\n",
    "    double dist(Point p1, Point p2)\n",
    "    {\n",
    "        Point p3 {p1-p2};\n",
    "        return sqrt(pow(p3.x,2) + pow(p3.y,2));\n",
    "    }\n",
    "    // converts a vector to a point\n",
    "    Point vec_to_point(std::vector<double> vec)\n",
    "    {\n",
    "        Point p(vec[0],vec[1]);\n",
    "        return p;\n",
    "    }\n",
    "    // calculates the orientation of three points\n",
    "    // 0 is linear\n",
    "    // 1 is clockwise\n",
    "    // -1 is anticlockwise\n",
    "    int orientation(Point p, Point q, Point r)\n",
    "    {\n",
    "        double ori = (r.x-q.x)*(q.y-p.y)-(r.y-q.y)*(q.x-p.x);\n",
    "        int entation {2};\n",
    "        if (ori == 0)\n",
    "        {\n",
    "            entation=0;\n",
    "        }\n",
    "        else if (ori > 0)\n",
    "        {\n",
    "            entation=1;\n",
    "        }\n",
    "        else if (ori < 0)\n",
    "        {\n",
    "            entation=-1;\n",
    "        }\n",
    "        return entation;\n",
    "    }\n",
    "};"
   ]
  },
  {
   "cell_type": "code",
   "execution_count": 3,
   "id": "04e49b53",
   "metadata": {},
   "outputs": [
    {
     "data": {
      "text/plain": []
     },
     "execution_count": 3,
     "metadata": {},
     "output_type": "execute_result"
    }
   ],
   "source": [
    "// so we can easily print out a point\n",
    "void print_point(Point p)\n",
    "{\n",
    "    std::cout << \"(\" << p.x << \",\" << p.y << \")\" << std::endl;\n",
    "}"
   ]
  },
  {
   "cell_type": "code",
   "execution_count": 4,
   "id": "89c2e51b",
   "metadata": {},
   "outputs": [
    {
     "data": {
      "text/plain": []
     },
     "execution_count": 4,
     "metadata": {},
     "output_type": "execute_result"
    }
   ],
   "source": [
    "// writing the algorithm. have the inputs as a list of vectors as thats what the data sets are.\n",
    "std::list<Point> jarvis_march(std::list<std::vector<double>> points)\n",
    "{\n",
    "    // making sure theres at least three points to caluclate the orientation of.\n",
    "    if (points.size()<3)\n",
    "    {\n",
    "            std::cout << \"Must be at least three points\" << std::endl;\n",
    "    }\n",
    "    // convert each vector within the list to a point\n",
    "    Point p1;\n",
    "    std::list<Point> xys;\n",
    "    for(std::vector<double>& xy_pair : points)\n",
    "    {\n",
    "      xys.push_back(p1.vec_to_point(xy_pair));\n",
    "    }\n",
    "    \n",
    "    // also create the same but a vector of points as opposed to a list\n",
    "    \n",
    "    std::vector<Point> vecs(xys.begin(), xys.end());\n",
    "    \n",
    "    // sort the list and vector\n",
    "    \n",
    "    xys.sort();\n",
    "    std::sort (vecs.begin(), vecs.end());\n",
    "    \n",
    "    // calculate the left most point's index within the list.\n",
    "    \n",
    "    Point left {vecs[0]};\n",
    "    \n",
    "    // initialise the output list\n",
    "    std::list<Point> convex_hull;\n",
    "    \n",
    "    // initialise p\n",
    "    int p {0};\n",
    "    \n",
    "    // run this while loop until the termination criteria is reached, where the next point in the convex hull\n",
    "    // is the same as the first point i.e. we've reached the beginning again.\n",
    "    while (true)\n",
    "    {\n",
    "    \n",
    "        Point p3;\n",
    "        convex_hull.push_back(vecs[p]); // add the last point to the hull.\n",
    "        print_point(vecs[p]);\n",
    "        \n",
    "        int q = (p+1) % vecs.size(); // make q the next point in the vector (looping around incase we're at the end\n",
    "        // of the list 'points')\n",
    "        \n",
    "        // calculate the orientation. if it is anticlockwise update q to be that i, as it's got the \n",
    "        // most points clockwise to it.\n",
    "        for (int i = 0; i < vecs.size(); i++)\n",
    "        {\n",
    "            if (p3.orientation(vecs[p],vecs[i],vecs[q])==(-1))\n",
    "            {\n",
    "                q=i;\n",
    "            }\n",
    "        }\n",
    "        // we now have a q as the next point in the convex hull. set p to this so in the next iteration\n",
    "        // it will add this point to the hull.\n",
    "        p = q;\n",
    "        // except don't add this point if we are back at the beginning of the hull! end the while loop.\n",
    "        if (p==0)\n",
    "        {\n",
    "            break;\n",
    "        }\n",
    "    }\n",
    "    // return the convex hull\n",
    "    return convex_hull;\n",
    "}"
   ]
  },
  {
   "cell_type": "code",
   "execution_count": 5,
   "id": "af26fbf8",
   "metadata": {},
   "outputs": [
    {
     "data": {
      "text/plain": []
     },
     "execution_count": 5,
     "metadata": {},
     "output_type": "execute_result"
    }
   ],
   "source": [
    "// incase we want to print a list of vectors\n",
    "void print_list(std::list<std::vector<double>> L)\n",
    "{\n",
    "    std::cout << \"----------------\" << std::endl;\n",
    "    for(std::vector x : L)\n",
    "    {\n",
    "        std::cout << \"(\" << x[0] << \",\" << x[1] << \")\" << std::endl;\n",
    "    }\n",
    "    std::cout << \"----------------\" << std::endl;\n",
    "}"
   ]
  },
  {
   "cell_type": "code",
   "execution_count": 6,
   "id": "f5bf57aa",
   "metadata": {},
   "outputs": [
    {
     "data": {
      "text/plain": []
     },
     "execution_count": 6,
     "metadata": {},
     "output_type": "execute_result"
    }
   ],
   "source": [
    "// incase we want to print a list of points\n",
    "void print_list(std::list<Point> L)\n",
    "{\n",
    "    std::cout << \"----------------\" << std::endl;\n",
    "    for(Point x : L)\n",
    "    {\n",
    "        std::cout << \"(\" << x.x << \",\" << x.y << \")\" << std::endl;\n",
    "    }\n",
    "    std::cout << \"----------------\" << std::endl;\n",
    "}"
   ]
  },
  {
   "cell_type": "code",
   "execution_count": 7,
   "id": "9e184692",
   "metadata": {},
   "outputs": [
    {
     "data": {
      "text/plain": []
     },
     "execution_count": 7,
     "metadata": {},
     "output_type": "execute_result"
    }
   ],
   "source": [
    "// read in the first data set\n",
    "#include <fstream>\n",
    "#include <sstream>\n",
    "#include <string>\n",
    "\n",
    "template <typename T>\n",
    "T lexical_cast(const std::string& str)\n",
    "{\n",
    "    T var;\n",
    "    std::istringstream iss;\n",
    "    iss.str(str);\n",
    "    iss >> var;\n",
    "    // deal with any error bits that may have been set on the stream\n",
    "    return var;\n",
    "}\n",
    "\n",
    "template<typename data_type,\n",
    "template <typename... table_type_args> typename table_type,\n",
    "template <typename... row_type_args> typename row_type>\n",
    "table_type<row_type<data_type> > csvtable(const std::string& filename)\n",
    "{\n",
    "  table_type<row_type<data_type> > table;\n",
    "  std::ifstream infile(filename);\n",
    "  while(infile)\n",
    "    {\n",
    "      std::string s;\n",
    "      if(!getline(infile,s)) break;\n",
    "      std::istringstream ss(s);\n",
    "      row_type<data_type> row;\n",
    "      while(ss)\n",
    "      {\n",
    "         std::string s;\n",
    "         if(!getline(ss,s,',')) break;\n",
    "         row.push_back(lexical_cast<data_type>(s)); \n",
    "      }\n",
    "      table.push_back(row);\n",
    "    }\n",
    "  return table;\n",
    "}\n",
    "\n",
    "#include <list>\n",
    "#include <vector>\n",
    "\n",
    "#define readcsv csvtable<double,std::list,std::vector>"
   ]
  },
  {
   "cell_type": "code",
   "execution_count": 8,
   "id": "a10f4193",
   "metadata": {},
   "outputs": [
    {
     "name": "stdout",
     "output_type": "stream",
     "text": [
      "----------------\n",
      "(1,1)\n",
      "(2,1)\n",
      "(2,2)\n",
      "(1,2)\n",
      "(1.5,1.5)\n",
      "(1.5,2.5)\n",
      "----------------\n"
     ]
    },
    {
     "data": {
      "text/plain": [
       "(void) @0x7f817affbd00\n"
      ]
     },
     "execution_count": 8,
     "metadata": {},
     "output_type": "execute_result"
    }
   ],
   "source": [
    "// print the first dataset\n",
    "std::string filename {\"square.csv\"};\n",
    "std::list<std::vector<double>> xy_pairs {readcsv(filename)};\n",
    "print_list(xy_pairs)"
   ]
  },
  {
   "cell_type": "code",
   "execution_count": 9,
   "id": "760065f4",
   "metadata": {},
   "outputs": [
    {
     "name": "stdout",
     "output_type": "stream",
     "text": [
      "(1,1)\n",
      "(2,1)\n",
      "(2,2)\n",
      "(1.5,2.5)\n",
      "(1,2)\n"
     ]
    },
    {
     "data": {
      "text/plain": []
     },
     "execution_count": 9,
     "metadata": {},
     "output_type": "execute_result"
    }
   ],
   "source": [
    "// look at the convex hull of the first dataset!\n",
    "std::list jm1 = jarvis_march(xy_pairs)"
   ]
  },
  {
   "cell_type": "code",
   "execution_count": 10,
   "id": "dea4477d",
   "metadata": {},
   "outputs": [
    {
     "name": "stdout",
     "output_type": "stream",
     "text": [
      "----------------\n",
      "(0.237561,0.765068)\n",
      "(-0.196668,1.05818)\n",
      "(-0.403757,0.906347)\n",
      "(-0.0158237,0.637454)\n",
      "(-0.716574,1.2022)\n",
      "(-0.404178,0.882928)\n",
      "(-0.0711563,0.859002)\n",
      "(-0.294186,0.766546)\n",
      "(-0.339267,1.09901)\n",
      "(-0.306955,1.16132)\n",
      "(-0.351026,1.01946)\n",
      "(-0.157484,1.17044)\n",
      "(-0.553673,1.06534)\n",
      "(-0.402182,0.896557)\n",
      "(-0.709905,1.19732)\n",
      "(0.0601768,1.11593)\n",
      "(-0.197402,1.15145)\n",
      "(-0.192277,0.920439)\n",
      "(-0.0249492,0.785935)\n",
      "(0.0164663,1.01548)\n",
      "(-0.181126,0.889107)\n",
      "(-0.223455,0.836737)\n",
      "(0.146267,1.29832)\n",
      "(-0.134969,1.05603)\n",
      "(0.0725398,0.900094)\n",
      "(-0.0730267,0.902896)\n",
      "(-0.324465,0.809641)\n",
      "(-0.410636,1.23388)\n",
      "(-0.0644351,1.07057)\n",
      "(-0.342469,0.946837)\n",
      "(-0.200134,0.77297)\n",
      "(-0.354881,1.19703)\n",
      "(0.385689,0.96779)\n",
      "(-0.39669,1.07538)\n",
      "(-0.210905,1.13591)\n",
      "(-0.282362,1.25939)\n",
      "(-0.546497,1.04512)\n",
      "(-0.331086,1.06438)\n",
      "(-0.543577,0.833097)\n",
      "(-0.095452,0.880241)\n",
      "(-0.493301,1.32001)\n",
      "(-0.432249,0.600185)\n",
      "(-0.195372,0.690382)\n",
      "(-0.403233,0.863442)\n",
      "(-0.301376,0.883016)\n",
      "(0.0689201,1.10297)\n",
      "(-0.28754,1.16948)\n",
      "(-0.231906,0.926699)\n",
      "(-0.191275,1.20706)\n",
      "(-0.176312,1.14688)\n",
      "(-0.410598,1.06008)\n",
      "(-0.303397,0.814075)\n",
      "(-0.380952,1.45311)\n",
      "(-0.46703,1.31015)\n",
      "(0.107385,1.03612)\n",
      "(-0.0812576,1.09058)\n",
      "(-0.183301,1.22083)\n",
      "(-0.0956605,0.980519)\n",
      "(-0.304552,1.18766)\n",
      "(-0.372551,0.733438)\n",
      "(-0.102634,1.16212)\n",
      "(-0.182766,1.00951)\n",
      "(-0.286307,0.839539)\n",
      "(-0.0546431,1.04927)\n",
      "(-0.425757,0.853478)\n",
      "(0.156108,1.02195)\n",
      "(-0.415186,1.10514)\n",
      "(-0.258927,0.635995)\n",
      "(-0.412119,0.774606)\n",
      "(-0.6052,0.957134)\n",
      "(-0.123272,1.19578)\n",
      "(-0.51473,1.16727)\n",
      "(-0.309415,0.857316)\n",
      "(0.00202245,1.25091)\n",
      "(-0.13527,1.09753)\n",
      "(-0.240105,0.828818)\n",
      "(-0.28943,0.821282)\n",
      "(-0.38319,0.916401)\n",
      "(0.00950614,0.813815)\n",
      "(-0.128051,0.834743)\n",
      "(-0.501602,0.836155)\n",
      "(-0.107153,0.880154)\n",
      "(-0.220586,0.988735)\n",
      "(-0.191789,1.32309)\n",
      "(-0.242237,1.10546)\n",
      "(-0.342298,1.04304)\n",
      "(-0.312624,0.650819)\n",
      "(-0.229855,0.797207)\n",
      "(-0.0923907,0.941764)\n",
      "(0.203775,1.06057)\n",
      "(-0.0693852,0.956037)\n",
      "(-0.228513,0.831746)\n",
      "(0.122942,0.85588)\n",
      "(-0.225729,1.10216)\n",
      "(-0.513866,0.977312)\n",
      "(-0.282354,1.10399)\n",
      "(-0.493903,1.06966)\n",
      "(-0.214445,1.07216)\n",
      "(-0.417944,0.888759)\n",
      "(-0.502862,0.931754)\n",
      "(0.226339,1.01729)\n",
      "(-0.207902,0.949845)\n",
      "(-0.348979,1.18584)\n",
      "(0.070952,1.48797)\n",
      "(0.112485,1.49273)\n",
      "(0.356155,1.10187)\n",
      "(0.0596412,1.06229)\n",
      "(-0.098187,0.817525)\n",
      "(0.245531,1.28212)\n",
      "(0.180519,1.09569)\n",
      "(0.026378,1.14907)\n",
      "(-0.0376333,1.11497)\n",
      "(0.0169307,1.0298)\n",
      "(0.235839,1.37344)\n",
      "(0.145968,0.92824)\n",
      "(0.372429,1.0304)\n",
      "(-0.0905036,1.05539)\n",
      "(0.0573292,1.5136)\n",
      "(-0.0324055,1.23695)\n",
      "(0.353922,0.654945)\n",
      "(0.327726,1.10496)\n",
      "(0.139711,1.05981)\n",
      "(0.111775,1.35132)\n",
      "(0.277855,1.04648)\n",
      "(0.336497,0.754144)\n",
      "(0.195192,1.10265)\n",
      "(-0.0172448,1.30231)\n",
      "(0.132617,1.2314)\n",
      "(-0.0411281,1.06577)\n",
      "(0.204544,1.20852)\n",
      "(0.0832443,0.95662)\n",
      "(-0.00462182,1.10317)\n",
      "(0.152304,1.31239)\n",
      "(0.270219,0.989898)\n",
      "(-0.545292,1.40504)\n",
      "(0.264105,1.32931)\n",
      "(-0.0368402,1.37207)\n",
      "(0.190721,0.859107)\n",
      "(-0.174646,0.996583)\n",
      "(0.030704,1.00418)\n",
      "(0.00552328,1.22766)\n",
      "(-0.0367956,1.01956)\n",
      "(0.0285792,1.23723)\n",
      "(0.160366,0.74794)\n",
      "(0.152918,1.14738)\n",
      "(0.156197,0.537196)\n",
      "(0.389633,0.903327)\n",
      "(0.358984,1.56677)\n",
      "(-0.0664378,1.19259)\n",
      "(0.285102,1.11844)\n",
      "(0.21577,1.12181)\n",
      "(0.00511556,1.15304)\n",
      "(0.162404,1.23639)\n",
      "(-0.023074,0.842811)\n",
      "(-0.36353,1.16236)\n",
      "(0.172091,1.11486)\n",
      "(0.186201,0.81715)\n",
      "(0.0138465,0.916729)\n",
      "(0.302228,1.03912)\n",
      "(0.0152658,1.21619)\n",
      "(0.267373,1.10408)\n",
      "(0.351712,1.11977)\n",
      "(0.0708571,0.786657)\n",
      "(0.394406,1.37788)\n",
      "(0.0688352,0.901258)\n",
      "(-0.37242,1.30363)\n",
      "(0.272068,1.05695)\n",
      "(-0.062821,1.24861)\n",
      "(0.00957725,1.17321)\n",
      "(0.505824,1.12001)\n",
      "(0.110794,0.999033)\n",
      "(0.0983759,0.727984)\n",
      "(0.380964,1.36051)\n",
      "(0.257394,0.947198)\n",
      "(0.336284,1.21284)\n",
      "(0.284615,1.25238)\n",
      "(-0.0154852,1.18359)\n",
      "(-0.0866913,1.22857)\n",
      "(-0.22883,0.930669)\n",
      "(0.0215955,0.554435)\n",
      "(-0.0660111,1.14701)\n",
      "(0.144506,0.665358)\n",
      "(-0.0195343,1.16982)\n",
      "(-0.028863,0.896695)\n",
      "(0.0621936,1.11386)\n",
      "(0.365216,1.19933)\n",
      "(0.354666,0.711113)\n",
      "(0.0656391,1.09259)\n",
      "(-0.0435303,1.37399)\n",
      "(0.0280994,1.12214)\n",
      "(0.324795,1.37272)\n",
      "(0.244851,1.23361)\n",
      "(-0.0897991,0.86086)\n",
      "(0.415531,1.0024)\n",
      "(0.141632,0.942838)\n",
      "(0.147535,0.731833)\n",
      "(0.0498855,1.11639)\n",
      "(0.0379438,1.18467)\n",
      "(0.0582167,0.788949)\n",
      "(0.0294866,1.13049)\n",
      "----------------\n"
     ]
    },
    {
     "data": {
      "text/plain": [
       "(void) @0x7f817affbd00\n"
      ]
     },
     "execution_count": 10,
     "metadata": {},
     "output_type": "execute_result"
    }
   ],
   "source": [
    "// now another dataset\n",
    "std::string filename2 {\"random.csv\"};\n",
    "std::list<std::vector<double>> xy_pairs2 {readcsv(filename2)};\n",
    "print_list(xy_pairs2)"
   ]
  },
  {
   "cell_type": "code",
   "execution_count": 11,
   "id": "39ef6d70",
   "metadata": {},
   "outputs": [
    {
     "name": "stdout",
     "output_type": "stream",
     "text": [
      "(-0.716574,1.2022)\n",
      "(-0.6052,0.957134)\n",
      "(-0.432249,0.600185)\n",
      "(0.156197,0.537196)\n",
      "(0.353922,0.654945)\n",
      "(0.505824,1.12001)\n",
      "(0.358984,1.56677)\n",
      "(-0.380952,1.45311)\n",
      "(-0.545292,1.40504)\n"
     ]
    },
    {
     "data": {
      "text/plain": []
     },
     "execution_count": 11,
     "metadata": {},
     "output_type": "execute_result"
    }
   ],
   "source": [
    "// now the convex hull of that dataset\n",
    "std::list jm2 = jarvis_march(xy_pairs2)"
   ]
  },
  {
   "cell_type": "markdown",
   "id": "d75c5ca5",
   "metadata": {},
   "source": [
    "I refrain from doing every dataset to save space in this document, but I am confident the algorithm is successfully implemented.\n",
    "The five R's are: Replicable, Re-Runnable, Repeatble, Reproducable, Reusable.\n",
    "### Replicable:\n",
    "Compared with the Python version of this algorithm, I don't think the C++ is as replicable. Whilst based on the same pseudo code as the python (and I think the pseudocode produced in the last assessment is replicable), since  C++ is that much harder to make sense of, trying to replicate it from the code (beyond just copying it out) is harder than python, and therefore less replicable.\n",
    "### Rerunnable\n",
    "The C++ code is more rerunnable than the python version because C++ is naturally faster. Moreover, in the long run since C++ has an ISO standard, it is guaranteed to still work in the future even as updated versions of C++ are released, which is not guaranteed with python.\n",
    "### Repeatable and Reproducable\n",
    "The python and C++ are equally matched in that they are both repeatable and guaranteed to get the same results over multiple implementations of the algorithm with the same data. There is no randomness involved and thus no worries about various seeds being used.\n",
    "### Reuseable\n",
    "The python is better than the C++ for reusability since it is easier to understand and therefore use and modify for people's specific requirements."
   ]
  },
  {
   "cell_type": "markdown",
   "id": "707db1b8",
   "metadata": {},
   "source": [
    "# Part 4)\n",
    "The idea behind this algorithm is as follows: calculate the distance between the first two points, store that in some parameter, calculate the distance between the next pair of points and only update the parameter if the distance is bigger than the current value stored."
   ]
  },
  {
   "cell_type": "markdown",
   "id": "927348a1",
   "metadata": {},
   "source": [
    "The aim of this algorithm is to find the pair of 2D points that are furthest apart in a set.\n",
    "Let $Q$ be a set of points in the plane with $|Q|>1$.\n",
    "1) Initialise distance $d=0$.\n",
    "2) FOR each point $i$ in $Q$\n",
    "    1) FOR each point $j$ in $Q$\n",
    "        1) IF the distance between point $i$ and point $j$ is greater than the current value of $d$:\n",
    "            1) Set $d$ equal to the distance between point $i$ and point $j$\n",
    "        2) End IF\n",
    "    2) End FOR\n",
    "3) End FOR\n",
    "4) Return d"
   ]
  },
  {
   "cell_type": "markdown",
   "id": "2b3e0e32",
   "metadata": {},
   "source": [
    "The computational complexity for this algorithm is $\\mathcal{O}(n^2)$ where $n$ is the size of the set of points (as there is a nested for loop)."
   ]
  },
  {
   "cell_type": "markdown",
   "id": "f8e4b362",
   "metadata": {},
   "source": [
    "# Part 5)"
   ]
  },
  {
   "cell_type": "code",
   "execution_count": 12,
   "id": "e654050d",
   "metadata": {},
   "outputs": [
    {
     "data": {
      "text/plain": []
     },
     "execution_count": 12,
     "metadata": {},
     "output_type": "execute_result"
    }
   ],
   "source": [
    "double max_distance(std::list<std::vector<double>> points)\n",
    "{\n",
    "    // convert each vector within the list to a point\n",
    "    Point p1;\n",
    "    std::list<Point> xys;\n",
    "    for(std::vector<double>& xy_pair : points)\n",
    "    {\n",
    "      xys.push_back(p1.vec_to_point(xy_pair));\n",
    "    }\n",
    "    \n",
    "    // we actually want a vector so create that\n",
    "    std::vector<Point> vecs(xys.begin(), xys.end());\n",
    "    \n",
    "    // initialise d as 0\n",
    "    double d {0};\n",
    "    \n",
    "    // initialise random point to be able to use the distance function\n",
    "    Point p;\n",
    "    \n",
    "    for (int i = 0; i < vecs.size(); i++)\n",
    "    {\n",
    "        for (int j = 0; j < vecs.size(); j++)\n",
    "            if (p.dist(vecs[i],vecs[j])>d)\n",
    "            {\n",
    "                d=p.dist(vecs[i],vecs[j]);\n",
    "            }\n",
    "    }\n",
    "    return d;\n",
    "}"
   ]
  },
  {
   "cell_type": "code",
   "execution_count": 13,
   "id": "6186b3ac",
   "metadata": {},
   "outputs": [
    {
     "name": "stdout",
     "output_type": "stream",
     "text": [
      "1.58114\n"
     ]
    },
    {
     "data": {
      "text/plain": [
       "(std::basic_ostream<char, std::char_traits<char> >::__ostream_type &) @0x7f81971fd540\n"
      ]
     },
     "execution_count": 13,
     "metadata": {},
     "output_type": "execute_result"
    }
   ],
   "source": [
    "float d1 = max_distance(xy_pairs);\n",
    "std::cout << d1 << std::endl;"
   ]
  },
  {
   "cell_type": "markdown",
   "id": "c0515d8f",
   "metadata": {},
   "source": [
    "This is for the first data set $\\verb|square|$ so we can check this manually - the biggest distance is between the points $(1,1)$ and $(1.5,2.5)$. This does have a distance of $|(1.5,2.5)-(1,1)| = |(0.5,1.5)|= \\sqrt{0.5^2 + 1.5^2}= \\frac{\\sqrt{10}}{2}= 1.58114$. So it works."
   ]
  },
  {
   "cell_type": "code",
   "execution_count": 14,
   "id": "102ff789",
   "metadata": {},
   "outputs": [
    {
     "name": "stdout",
     "output_type": "stream",
     "text": [
      "1.24914\n"
     ]
    },
    {
     "data": {
      "text/plain": [
       "(std::basic_ostream<char, std::char_traits<char> >::__ostream_type &) @0x7f81971fd540\n"
      ]
     },
     "execution_count": 14,
     "metadata": {},
     "output_type": "execute_result"
    }
   ],
   "source": [
    "float d2 = max_distance(xy_pairs2);\n",
    "std::cout << d2 << std::endl;"
   ]
  },
  {
   "cell_type": "markdown",
   "id": "48a48b0a",
   "metadata": {},
   "source": [
    "And for the dataset $\\verb|random|$ we can see the biggest distance is 1.24914."
   ]
  },
  {
   "cell_type": "markdown",
   "id": "a18f54c7",
   "metadata": {},
   "source": [
    "It is possible to design a better algorithm, using the jarvis march to help. Since the two points the furthest distance away will be on the convex hull of the set of points, the algorithm above can be sped up by being used on just the hull as opposed to the whole set of points.\n",
    "This algorithm would be have complexity $\\mathcal{O}(h^2)$ as opposed to $\\mathcal{O}(n^2)$ where $h$ is the size of the hull and $n$ is the size of the set. In the worst case where $n=h$ it has worst case complexity that is equivilent to the case without the jarvis march but it saves time mostly."
   ]
  },
  {
   "cell_type": "code",
   "execution_count": 15,
   "id": "0c769736",
   "metadata": {},
   "outputs": [
    {
     "data": {
      "text/plain": []
     },
     "execution_count": 15,
     "metadata": {},
     "output_type": "execute_result"
    }
   ],
   "source": [
    "double max_distance_jm(std::list<std::vector<double>> points)\n",
    "{\n",
    "    std::list jm = jarvis_march(points);\n",
    "    // we actually want a vector so create that\n",
    "    std::vector<Point> vecs(jm.begin(),jm.end());\n",
    "    \n",
    "    // initialise d as 0\n",
    "    double d {0};\n",
    "    \n",
    "    // initialise random point to be able to use the distance function\n",
    "    Point p;\n",
    "    \n",
    "    for (int i = 0; i < vecs.size(); i++)\n",
    "    {\n",
    "        for (int j = 0; j < vecs.size(); j++)\n",
    "            if (p.dist(vecs[i],vecs[j])>d)\n",
    "            {\n",
    "                d=p.dist(vecs[i],vecs[j]);\n",
    "            }\n",
    "    }\n",
    "    return d;\n",
    "}"
   ]
  },
  {
   "cell_type": "code",
   "execution_count": 16,
   "id": "9a215ecf",
   "metadata": {},
   "outputs": [
    {
     "name": "stdout",
     "output_type": "stream",
     "text": [
      "(-0.716574,1.2022)\n",
      "(-0.6052,0.957134)\n",
      "(-0.432249,0.600185)\n",
      "(0.156197,0.537196)\n",
      "(0.353922,0.654945)\n",
      "(0.505824,1.12001)\n",
      "(0.358984,1.56677)\n",
      "(-0.380952,1.45311)\n",
      "(-0.545292,1.40504)\n",
      "1.24914\n"
     ]
    },
    {
     "data": {
      "text/plain": [
       "(std::basic_ostream<char, std::char_traits<char> >::__ostream_type &) @0x7f81971fd540\n"
      ]
     },
     "execution_count": 16,
     "metadata": {},
     "output_type": "execute_result"
    }
   ],
   "source": [
    "float d3 = max_distance_jm(xy_pairs2);\n",
    "std::cout << d3 << std::endl;"
   ]
  },
  {
   "cell_type": "markdown",
   "id": "ebf13129",
   "metadata": {},
   "source": [
    "The pseudo code of this is:\n",
    "\n",
    "The aim of this algorithm is to find the pair of 2D points that are furthest apart in a set.\n",
    "Let $Q$ be a set of points in the plane with $|Q|>3$. Let $H$ be the convex hull of the set $Q$ with $|H|>3$.\n",
    "1) Initialise distance $d=0$.\n",
    "2) FOR each point $i$ in $H$\n",
    "    1) FOR each point $j$ in $H$\n",
    "        1) IF the distance between point $i$ and point $j$ is greater than the current value of $d$:\n",
    "            1) Set $d$ equal to the distance between point $i$ and point $j$\n",
    "        2) End IF\n",
    "    2) End FOR\n",
    "3) End FOR\n",
    "4) Return d"
   ]
  }
 ],
 "metadata": {
  "kernelspec": {
   "display_name": "C++17",
   "language": "C++",
   "name": "cling-cpp17"
  },
  "language_info": {
   "codemirror_mode": "c++",
   "file_extension": ".c++",
   "mimetype": "text/x-c++src",
   "name": "c++"
  }
 },
 "nbformat": 4,
 "nbformat_minor": 5
}
